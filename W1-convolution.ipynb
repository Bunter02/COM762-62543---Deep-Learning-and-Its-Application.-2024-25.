{
 "cells": [
  {
   "cell_type": "code",
   "execution_count": null,
   "metadata": {},
   "outputs": [],
   "source": []
  },
  {
   "cell_type": "code",
   "execution_count": 2,
   "metadata": {},
   "outputs": [
    {
     "name": "stdout",
     "output_type": "stream",
     "text": [
      "[0, 0, 0, 0, 1, 1, 1, 1, 1, 1]\n",
      "[1, 0, 0, 1, 0, 0, 0, 1, 0, 0]\n",
      "[1, 0, 1, 1, 0, 0, 1, 1, 1, 0]\n",
      "[1, 1, 1, 1, 1, 0, 0, 0, 0, 1]\n",
      "[0, 1, 0, 0, 1, 0, 0, 0, 1, 1]\n",
      "[1, 0, 0, 1, 1, 0, 1, 1, 1, 0]\n",
      "[1, 0, 0, 0, 0, 0, 1, 1, 0, 0]\n",
      "[0, 1, 1, 0, 0, 0, 0, 1, 0, 0]\n",
      "[1, 0, 0, 0, 0, 0, 0, 0, 1, 0]\n",
      "[0, 0, 1, 1, 1, 1, 1, 1, 0, 1]\n"
     ]
    }
   ],
   "source": [
    "import random\n",
    "\n",
    "def generate_random_matrix(rows, cols):\n",
    "    return [[random.randint(0, 1) for _ in range(cols)] for _ in range(rows)]\n",
    "\n",
    "# Generate a 10x10 matrix\n",
    "matrix = generate_random_matrix(10, 10)\n",
    "\n",
    "# Print the matrix\n",
    "for row in matrix:\n",
    "    print(row)"
   ]
  },
  {
   "cell_type": "code",
   "execution_count": 4,
   "metadata": {},
   "outputs": [
    {
     "name": "stdout",
     "output_type": "stream",
     "text": [
      "Convolution result: 29\n"
     ]
    }
   ],
   "source": [
    "def convolution(matrix_a, matrix_b):\n",
    "    # Ensure both matrices are 2x2\n",
    "    if len(matrix_a) != 2 or len(matrix_a[0]) != 2 or len(matrix_b) != 2 or len(matrix_b[0]) != 2:\n",
    "        raise ValueError(\"Both matrices must be 2x2 in dimension.\")\n",
    "    \n",
    "    # Extract elements from matrices\n",
    "    a, b = matrix_a[0]\n",
    "    e, f = matrix_a[1]\n",
    "    w, x = matrix_b[0]\n",
    "    y, z = matrix_b[1]\n",
    "    \n",
    "    # Compute convolution\n",
    "    result = a * w + b * x + e * y + f * z\n",
    "    return result\n",
    "\n",
    "# Define matrices A and B\n",
    "A = [[2, 3], [3, 4]]\n",
    "B = [[1, 2], [3, 3]]\n",
    "\n",
    "# Perform convolution\n",
    "result = convolution(A, B)\n",
    "\n",
    "# Print the result\n",
    "print(\"Convolution result:\", result)"
   ]
  }
 ],
 "metadata": {
  "kernelspec": {
   "display_name": "Python 3",
   "language": "python",
   "name": "python3"
  },
  "language_info": {
   "codemirror_mode": {
    "name": "ipython",
    "version": 3
   },
   "file_extension": ".py",
   "mimetype": "text/x-python",
   "name": "python",
   "nbconvert_exporter": "python",
   "pygments_lexer": "ipython3",
   "version": "3.12.4"
  }
 },
 "nbformat": 4,
 "nbformat_minor": 2
}

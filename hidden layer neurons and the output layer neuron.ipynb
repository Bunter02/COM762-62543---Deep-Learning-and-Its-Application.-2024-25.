{
 "cells": [
  {
   "cell_type": "code",
   "execution_count": 1,
   "metadata": {},
   "outputs": [],
   "source": [
    "import numpy as np"
   ]
  },
  {
   "cell_type": "code",
   "execution_count": 2,
   "metadata": {},
   "outputs": [
    {
     "name": "stdout",
     "output_type": "stream",
     "text": [
      "Hidden layer activations:\n",
      "h1: 0.5621765008857981, h2: 0.425557483188341, h3: 0.6224593312018546\n",
      "Output layer activation:\n",
      "h4: 0.5366874433877132\n"
     ]
    }
   ],
   "source": [
    "\n",
    "# Sigmoid activation function\n",
    "def sigmoid(z):\n",
    "    return 1 / (1 + np.exp(-z))\n",
    "\n",
    "# Initialize weights and biases\n",
    "# Hidden layer weights and biases\n",
    "w_hidden = np.array([[0.5, -0.5, 0.2],  # Weights for h1^0\n",
    "                     [-0.2, 0.3, 0.1],  # Weights for h2^0\n",
    "                     [0.4, -0.1, 0.3]]) # Weights for h3^0\n",
    "b_hidden = np.array([0.1, -0.2, 0.3])  # Biases for hidden layer\n",
    "\n",
    "# Output layer weights and bias\n",
    "w_output = np.array([0.2, -0.3, 0.1])  # Weights for h4^0\n",
    "b_output = 0.1                         # Bias for output layer\n",
    "\n",
    "# Input values\n",
    "x = np.array([1.0, 0.5, -0.5])  # Example input values\n",
    "\n",
    "# Forward propagation\n",
    "# Hidden layer\n",
    "h1 = sigmoid(np.dot(w_hidden[0], x) + b_hidden[0])\n",
    "h2 = sigmoid(np.dot(w_hidden[1], x) + b_hidden[1])\n",
    "h3 = sigmoid(np.dot(w_hidden[2], x) + b_hidden[2])\n",
    "\n",
    "# Output layer\n",
    "h4 = sigmoid(np.dot(w_output, np.array([h1, h2, h3])) + b_output)\n",
    "\n",
    "print(\"Hidden layer activations:\")\n",
    "print(f\"h1: {h1}, h2: {h2}, h3: {h3}\")\n",
    "print(\"Output layer activation:\")\n",
    "print(f\"h4: {h4}\")"
   ]
  }
 ],
 "metadata": {
  "kernelspec": {
   "display_name": "base",
   "language": "python",
   "name": "python3"
  },
  "language_info": {
   "codemirror_mode": {
    "name": "ipython",
    "version": 3
   },
   "file_extension": ".py",
   "mimetype": "text/x-python",
   "name": "python",
   "nbconvert_exporter": "python",
   "pygments_lexer": "ipython3",
   "version": "3.9.12"
  }
 },
 "nbformat": 4,
 "nbformat_minor": 2
}
